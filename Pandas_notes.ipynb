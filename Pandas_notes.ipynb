{
 "cells": [
  {
   "cell_type": "code",
   "execution_count": 33,
   "metadata": {},
   "outputs": [],
   "source": [
    "import pandas as pd"
   ]
  },
  {
   "cell_type": "markdown",
   "metadata": {},
   "source": [
    "***\n",
    "* <code>pd.Series(data, index)</code>  \n",
    "  \n",
    "(The <code>index</code> is a list of index labels.)"
   ]
  },
  {
   "cell_type": "code",
   "execution_count": 34,
   "metadata": {
    "scrolled": true
   },
   "outputs": [
    {
     "data": {
      "text/plain": [
       "eggs       30\n",
       "apples      6\n",
       "milk      Yes\n",
       "bread      No\n",
       "dtype: object"
      ]
     },
     "execution_count": 34,
     "metadata": {},
     "output_type": "execute_result"
    }
   ],
   "source": [
    "groceries = pd.Series(data = [30, 6, 'Yes', 'No'], index = ['eggs', 'apples', 'milk', 'bread'])\n",
    "groceries"
   ]
  },
  {
   "cell_type": "code",
   "execution_count": 35,
   "metadata": {},
   "outputs": [],
   "source": [
    "# For use later in notebook:\n",
    "og_groceries = groceries.copy()"
   ]
  },
  {
   "cell_type": "markdown",
   "metadata": {},
   "source": [
    "***\n",
    "* ```.shape(axis)```\n",
    "* ```.ndim```\n",
    "* ```.size```"
   ]
  },
  {
   "cell_type": "code",
   "execution_count": 36,
   "metadata": {},
   "outputs": [
    {
     "name": "stdout",
     "output_type": "stream",
     "text": [
      "Groceries has shape: (4,)\n",
      "Groceries has dimension: 1\n",
      "Groceries has a total of 4 elements\n"
     ]
    }
   ],
   "source": [
    "print('Groceries has shape:', groceries.shape)\n",
    "print('Groceries has dimension:', groceries.ndim)\n",
    "print('Groceries has a total of', groceries.size, 'elements')"
   ]
  },
  {
   "cell_type": "markdown",
   "metadata": {},
   "source": [
    "***\n",
    "* ```.values```\n",
    "* ```.index```"
   ]
  },
  {
   "cell_type": "code",
   "execution_count": 37,
   "metadata": {},
   "outputs": [
    {
     "name": "stdout",
     "output_type": "stream",
     "text": [
      "The data in Groceries is: [30 6 'Yes' 'No']\n",
      "The index of Groceries is: Index(['eggs', 'apples', 'milk', 'bread'], dtype='object')\n"
     ]
    }
   ],
   "source": [
    "print('The data in Groceries is:', groceries.values)\n",
    "print('The index of Groceries is:', groceries.index)"
   ]
  },
  {
   "cell_type": "markdown",
   "metadata": {},
   "source": [
    "***\n",
    "* ```in``` boolean operator"
   ]
  },
  {
   "cell_type": "code",
   "execution_count": 38,
   "metadata": {},
   "outputs": [
    {
     "name": "stdout",
     "output_type": "stream",
     "text": [
      "Is bananas an index label in Groceries: False\n",
      "Is bread an index label in Groceries: True\n"
     ]
    }
   ],
   "source": [
    "x = 'bananas' in groceries\n",
    "y = 'bread' in groceries\n",
    "\n",
    "print('Is bananas an index label in Groceries:', x)\n",
    "print('Is bread an index label in Groceries:', y)"
   ]
  },
  {
   "cell_type": "markdown",
   "metadata": {},
   "source": [
    "***\n",
    "### Accessing and Deleting elements in a Pandas Series  "
   ]
  },
  {
   "cell_type": "markdown",
   "metadata": {},
   "source": [
    "* ```.loc``` : stands for location\n",
    "* ```.iloc``` : stands for integer location  \n",
    "  \n",
    "*Elements can also be accessed using:*\n",
    "* index labels: ```pd_series['label']``` or ```pd_series[['label1', 'label2']]```\n",
    "* int index positions: ```pd_series[int]``` or ```pd_series[[int1, int2]]```"
   ]
  },
  {
   "cell_type": "code",
   "execution_count": 39,
   "metadata": {},
   "outputs": [
    {
     "name": "stdout",
     "output_type": "stream",
     "text": [
      "groceries['eggs']: 30 \n",
      "\n",
      "groceries[['milk', 'bread']]:\n",
      " milk     Yes\n",
      "bread     No\n",
      "dtype: object \n",
      "\n",
      "groceries.loc[['eggs', 'apples']]):\n",
      " eggs      30\n",
      "apples     6\n",
      "dtype: object \n",
      "\n",
      "groceries[0]: 30 \n",
      "\n",
      "groceries[[0, 1]]:\n",
      " eggs      30\n",
      "apples     6\n",
      "dtype: object \n",
      "\n",
      "groceries.iloc[[2, 3]]:\n",
      " milk     Yes\n",
      "bread     No\n",
      "dtype: object\n"
     ]
    }
   ],
   "source": [
    "print(\"groceries['eggs']:\", groceries['eggs'], \"\\n\")\n",
    "print(\"groceries[['milk', 'bread']]:\\n\", groceries[['milk', 'bread']], \"\\n\")\n",
    "print(\"groceries.loc[['eggs', 'apples']]):\\n\", groceries.loc[['eggs', 'apples']], \"\\n\")\n",
    "print(\"groceries[0]:\", groceries[0], \"\\n\")\n",
    "print(\"groceries[[0, 1]]:\\n\", groceries[[0, 1]], \"\\n\")\n",
    "print(\"groceries.iloc[[2, 3]]:\\n\", groceries.iloc[[2, 3]])"
   ]
  },
  {
   "cell_type": "markdown",
   "metadata": {},
   "source": [
    "***\n",
    "* Mutability:\n",
    "* ```pd_series['label'] = new_value```"
   ]
  },
  {
   "cell_type": "code",
   "execution_count": 40,
   "metadata": {},
   "outputs": [
    {
     "name": "stdout",
     "output_type": "stream",
     "text": [
      "Original groceries:\n",
      " eggs       30\n",
      "apples      6\n",
      "milk      Yes\n",
      "bread      No\n",
      "dtype: object \n",
      "\n",
      "Modified groceries:\n",
      " eggs        2\n",
      "apples      6\n",
      "milk      Yes\n",
      "bread      No\n",
      "dtype: object\n"
     ]
    }
   ],
   "source": [
    "print('Original groceries:\\n', groceries, \"\\n\")\n",
    "groceries['eggs'] = 2\n",
    "print('Modified groceries:\\n', groceries)"
   ]
  },
  {
   "cell_type": "markdown",
   "metadata": {},
   "source": [
    "***\n",
    "* ```.drop(label, inplace=False)```\n",
    ">*By default, this method deletes elements **without modifying** the original series.  \n",
    "Set* ```inplace=True``` *to modify the original series.*"
   ]
  },
  {
   "cell_type": "code",
   "execution_count": 47,
   "metadata": {},
   "outputs": [
    {
     "name": "stdout",
     "output_type": "stream",
     "text": [
      "Original groceries series:\n",
      " eggs       30\n",
      "apples      6\n",
      "milk      Yes\n",
      "bread      No\n",
      "dtype: object \n",
      "\n",
      "['apples'] removed (out of place):\n",
      " eggs      30\n",
      "milk     Yes\n",
      "bread     No\n",
      "dtype: object \n",
      "\n",
      "Original groceries still intact:\n",
      " eggs       30\n",
      "apples      6\n",
      "milk      Yes\n",
      "bread      No\n",
      "dtype: object \n",
      "\n",
      "Original after ['apples'] dropped (in place):\n",
      " eggs      30\n",
      "milk     Yes\n",
      "bread     No\n",
      "dtype: object\n"
     ]
    }
   ],
   "source": [
    "groceries = og_groceries.copy()  # Reset groceries for demonstration purpose\n",
    "print('Original groceries series:\\n', groceries, '\\n')\n",
    "print(\"['apples'] removed (out of place):\\n\", groceries.drop('apples'), \"\\n\")\n",
    "print(\"Original groceries still intact:\\n\", groceries, \"\\n\")\n",
    "groceries.drop('apples', inplace=True)\n",
    "print(\"Original after ['apples'] dropped (in place):\\n\", groceries)"
   ]
  },
  {
   "cell_type": "code",
   "execution_count": null,
   "metadata": {},
   "outputs": [],
   "source": []
  }
 ],
 "metadata": {
  "kernelspec": {
   "display_name": "Python [conda env:udacity] *",
   "language": "python",
   "name": "conda-env-udacity-py"
  },
  "language_info": {
   "codemirror_mode": {
    "name": "ipython",
    "version": 3
   },
   "file_extension": ".py",
   "mimetype": "text/x-python",
   "name": "python",
   "nbconvert_exporter": "python",
   "pygments_lexer": "ipython3",
   "version": "3.6.3"
  }
 },
 "nbformat": 4,
 "nbformat_minor": 4
}

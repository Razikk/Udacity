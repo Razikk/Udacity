{
 "cells": [
  {
   "cell_type": "code",
   "execution_count": 14,
   "metadata": {},
   "outputs": [],
   "source": [
    "import numpy as np"
   ]
  },
  {
   "cell_type": "markdown",
   "metadata": {},
   "source": [
    "***\n",
    "* np.array([array sequence])"
   ]
  },
  {
   "cell_type": "code",
   "execution_count": 15,
   "metadata": {},
   "outputs": [
    {
     "name": "stdout",
     "output_type": "stream",
     "text": [
      "[1 2 3 4 5]\n"
     ]
    }
   ],
   "source": [
    "X = np.array([1, 2, 3, 4, 5])\n",
    "print(X)"
   ]
  },
  {
   "cell_type": "markdown",
   "metadata": {},
   "source": [
    "***\n",
    "* np.zeros(shape)"
   ]
  },
  {
   "cell_type": "code",
   "execution_count": 16,
   "metadata": {
    "scrolled": false
   },
   "outputs": [
    {
     "name": "stdout",
     "output_type": "stream",
     "text": [
      "[[ 0.  0.  0.  0.]\n",
      " [ 0.  0.  0.  0.]\n",
      " [ 0.  0.  0.  0.]]\n",
      "float64\n"
     ]
    }
   ],
   "source": [
    "X = np.zeros((3,4))\n",
    "print(X)\n",
    "print(X.dtype)"
   ]
  },
  {
   "cell_type": "markdown",
   "metadata": {},
   "source": [
    "***\n",
    "* np.ones(shape)"
   ]
  },
  {
   "cell_type": "code",
   "execution_count": 17,
   "metadata": {},
   "outputs": [
    {
     "name": "stdout",
     "output_type": "stream",
     "text": [
      "[['1' '1']\n",
      " ['1' '1']\n",
      " ['1' '1']]\n"
     ]
    }
   ],
   "source": [
    "X = np.ones((3,2), dtype=str)\n",
    "print(X)"
   ]
  },
  {
   "cell_type": "markdown",
   "metadata": {},
   "source": [
    "***\n",
    "* np.full(shape, constant value)"
   ]
  },
  {
   "cell_type": "code",
   "execution_count": 18,
   "metadata": {
    "scrolled": false
   },
   "outputs": [
    {
     "name": "stdout",
     "output_type": "stream",
     "text": [
      "[[5 5 5]\n",
      " [5 5 5]\n",
      " [5 5 5]\n",
      " [5 5 5]]\n",
      "int32\n"
     ]
    }
   ],
   "source": [
    "X = np.full((4,3), 5)\n",
    "print(X)\n",
    "print(X.dtype)"
   ]
  },
  {
   "cell_type": "markdown",
   "metadata": {},
   "source": [
    "***\n",
    "* np.eye(N)\n",
    ">*returns an 'identity matrix', an NxN matrix with 1's along main diagonal and 0's elsewhere*"
   ]
  },
  {
   "cell_type": "code",
   "execution_count": 19,
   "metadata": {
    "scrolled": true
   },
   "outputs": [
    {
     "name": "stdout",
     "output_type": "stream",
     "text": [
      "[[1 0 0 0 0]\n",
      " [0 1 0 0 0]\n",
      " [0 0 1 0 0]\n",
      " [0 0 0 1 0]\n",
      " [0 0 0 0 1]]\n"
     ]
    }
   ],
   "source": [
    "X = np.eye(5, dtype=int)\n",
    "print(X)"
   ]
  },
  {
   "cell_type": "markdown",
   "metadata": {},
   "source": [
    "***\n",
    "* np.diag(1d array)"
   ]
  },
  {
   "cell_type": "code",
   "execution_count": 20,
   "metadata": {
    "scrolled": true
   },
   "outputs": [
    {
     "name": "stdout",
     "output_type": "stream",
     "text": [
      "[[10  0  0  0  0]\n",
      " [ 0 20  0  0  0]\n",
      " [ 0  0 30  0  0]\n",
      " [ 0  0  0 40  0]\n",
      " [ 0  0  0  0 50]]\n"
     ]
    }
   ],
   "source": [
    "X = np.diag([10, 20, 30, 40, 50])\n",
    "print(X)"
   ]
  },
  {
   "cell_type": "markdown",
   "metadata": {},
   "source": [
    "***\n",
    "* np.arange(start, stop, step)\n",
    ">*Note that stop is EXclusive (n-1)*"
   ]
  },
  {
   "cell_type": "code",
   "execution_count": 21,
   "metadata": {
    "scrolled": true
   },
   "outputs": [
    {
     "name": "stdout",
     "output_type": "stream",
     "text": [
      "[0 1 2 3 4]\n"
     ]
    }
   ],
   "source": [
    "X = np.arange(5)\n",
    "print(X)"
   ]
  },
  {
   "cell_type": "code",
   "execution_count": 22,
   "metadata": {
    "scrolled": true
   },
   "outputs": [
    {
     "name": "stdout",
     "output_type": "stream",
     "text": [
      "[ 0.  2.  4.]\n"
     ]
    }
   ],
   "source": [
    "X = np.arange(0, 6, 2, dtype=float)\n",
    "print(X)"
   ]
  },
  {
   "cell_type": "markdown",
   "metadata": {},
   "source": [
    "***\n",
    "* np.linspace(start, stop, N)\n",
    ">*Note that stop is INclusive unless*  endpoint=False  \n",
    "*Also note that*  N=50  *by default*"
   ]
  },
  {
   "cell_type": "code",
   "execution_count": 23,
   "metadata": {},
   "outputs": [
    {
     "name": "stdout",
     "output_type": "stream",
     "text": [
      "[  0.           2.77777778   5.55555556   8.33333333  11.11111111\n",
      "  13.88888889  16.66666667  19.44444444  22.22222222  25.        ]\n"
     ]
    }
   ],
   "source": [
    "X = np.linspace(0, 25, 10)\n",
    "print(X)"
   ]
  },
  {
   "cell_type": "code",
   "execution_count": 24,
   "metadata": {},
   "outputs": [
    {
     "name": "stdout",
     "output_type": "stream",
     "text": [
      "[  0.    2.5   5.    7.5  10.   12.5  15.   17.5  20.   22.5]\n"
     ]
    }
   ],
   "source": [
    "X = np.linspace(0, 25, 10, endpoint=False)\n",
    "print(X)"
   ]
  },
  {
   "cell_type": "code",
   "execution_count": 25,
   "metadata": {},
   "outputs": [
    {
     "name": "stdout",
     "output_type": "stream",
     "text": [
      "[  0.           0.20408163   0.40816327   0.6122449    0.81632653\n",
      "   1.02040816   1.2244898    1.42857143   1.63265306   1.83673469\n",
      "   2.04081633   2.24489796   2.44897959   2.65306122   2.85714286\n",
      "   3.06122449   3.26530612   3.46938776   3.67346939   3.87755102\n",
      "   4.08163265   4.28571429   4.48979592   4.69387755   4.89795918\n",
      "   5.10204082   5.30612245   5.51020408   5.71428571   5.91836735\n",
      "   6.12244898   6.32653061   6.53061224   6.73469388   6.93877551\n",
      "   7.14285714   7.34693878   7.55102041   7.75510204   7.95918367\n",
      "   8.16326531   8.36734694   8.57142857   8.7755102    8.97959184\n",
      "   9.18367347   9.3877551    9.59183673   9.79591837  10.        ]\n"
     ]
    }
   ],
   "source": [
    "X = np.linspace(0, 10)\n",
    "print(X)"
   ]
  },
  {
   "cell_type": "markdown",
   "metadata": {},
   "source": [
    "***\n",
    "* np.reshape(ndarray, shape)\n",
    ">*Note that the number of elements in* ndarray *must be divisible into* shape"
   ]
  },
  {
   "cell_type": "code",
   "execution_count": 26,
   "metadata": {},
   "outputs": [
    {
     "ename": "ValueError",
     "evalue": "cannot reshape array of size 25 into shape (4,5)",
     "output_type": "error",
     "traceback": [
      "\u001b[1;31m---------------------------------------------------------------------------\u001b[0m",
      "\u001b[1;31mValueError\u001b[0m                                Traceback (most recent call last)",
      "\u001b[1;32m<ipython-input-26-7f8f3fb186dd>\u001b[0m in \u001b[0;36m<module>\u001b[1;34m\u001b[0m\n\u001b[0;32m      1\u001b[0m \u001b[0mX\u001b[0m \u001b[1;33m=\u001b[0m \u001b[0mnp\u001b[0m\u001b[1;33m.\u001b[0m\u001b[0marange\u001b[0m\u001b[1;33m(\u001b[0m\u001b[1;36m25\u001b[0m\u001b[1;33m)\u001b[0m\u001b[1;33m\u001b[0m\u001b[0m\n\u001b[1;32m----> 2\u001b[1;33m \u001b[0mX\u001b[0m \u001b[1;33m=\u001b[0m \u001b[0mnp\u001b[0m\u001b[1;33m.\u001b[0m\u001b[0mreshape\u001b[0m\u001b[1;33m(\u001b[0m\u001b[0mX\u001b[0m\u001b[1;33m,\u001b[0m \u001b[1;33m(\u001b[0m\u001b[1;36m4\u001b[0m\u001b[1;33m,\u001b[0m\u001b[1;36m5\u001b[0m\u001b[1;33m)\u001b[0m\u001b[1;33m)\u001b[0m\u001b[1;33m\u001b[0m\u001b[0m\n\u001b[0m\u001b[0;32m      3\u001b[0m \u001b[0mprint\u001b[0m\u001b[1;33m(\u001b[0m\u001b[0mX\u001b[0m\u001b[1;33m)\u001b[0m\u001b[1;33m\u001b[0m\u001b[0m\n",
      "\u001b[1;32m~\\anaconda3\\envs\\udacity\\lib\\site-packages\\numpy\\core\\fromnumeric.py\u001b[0m in \u001b[0;36mreshape\u001b[1;34m(a, newshape, order)\u001b[0m\n\u001b[0;32m    230\u001b[0m            [5, 6]])\n\u001b[0;32m    231\u001b[0m     \"\"\"\n\u001b[1;32m--> 232\u001b[1;33m     \u001b[1;32mreturn\u001b[0m \u001b[0m_wrapfunc\u001b[0m\u001b[1;33m(\u001b[0m\u001b[0ma\u001b[0m\u001b[1;33m,\u001b[0m \u001b[1;34m'reshape'\u001b[0m\u001b[1;33m,\u001b[0m \u001b[0mnewshape\u001b[0m\u001b[1;33m,\u001b[0m \u001b[0morder\u001b[0m\u001b[1;33m=\u001b[0m\u001b[0morder\u001b[0m\u001b[1;33m)\u001b[0m\u001b[1;33m\u001b[0m\u001b[0m\n\u001b[0m\u001b[0;32m    233\u001b[0m \u001b[1;33m\u001b[0m\u001b[0m\n\u001b[0;32m    234\u001b[0m \u001b[1;33m\u001b[0m\u001b[0m\n",
      "\u001b[1;32m~\\anaconda3\\envs\\udacity\\lib\\site-packages\\numpy\\core\\fromnumeric.py\u001b[0m in \u001b[0;36m_wrapfunc\u001b[1;34m(obj, method, *args, **kwds)\u001b[0m\n\u001b[0;32m     55\u001b[0m \u001b[1;32mdef\u001b[0m \u001b[0m_wrapfunc\u001b[0m\u001b[1;33m(\u001b[0m\u001b[0mobj\u001b[0m\u001b[1;33m,\u001b[0m \u001b[0mmethod\u001b[0m\u001b[1;33m,\u001b[0m \u001b[1;33m*\u001b[0m\u001b[0margs\u001b[0m\u001b[1;33m,\u001b[0m \u001b[1;33m**\u001b[0m\u001b[0mkwds\u001b[0m\u001b[1;33m)\u001b[0m\u001b[1;33m:\u001b[0m\u001b[1;33m\u001b[0m\u001b[0m\n\u001b[0;32m     56\u001b[0m     \u001b[1;32mtry\u001b[0m\u001b[1;33m:\u001b[0m\u001b[1;33m\u001b[0m\u001b[0m\n\u001b[1;32m---> 57\u001b[1;33m         \u001b[1;32mreturn\u001b[0m \u001b[0mgetattr\u001b[0m\u001b[1;33m(\u001b[0m\u001b[0mobj\u001b[0m\u001b[1;33m,\u001b[0m \u001b[0mmethod\u001b[0m\u001b[1;33m)\u001b[0m\u001b[1;33m(\u001b[0m\u001b[1;33m*\u001b[0m\u001b[0margs\u001b[0m\u001b[1;33m,\u001b[0m \u001b[1;33m**\u001b[0m\u001b[0mkwds\u001b[0m\u001b[1;33m)\u001b[0m\u001b[1;33m\u001b[0m\u001b[0m\n\u001b[0m\u001b[0;32m     58\u001b[0m \u001b[1;33m\u001b[0m\u001b[0m\n\u001b[0;32m     59\u001b[0m     \u001b[1;31m# An AttributeError occurs if the object does not have\u001b[0m\u001b[1;33m\u001b[0m\u001b[1;33m\u001b[0m\u001b[0m\n",
      "\u001b[1;31mValueError\u001b[0m: cannot reshape array of size 25 into shape (4,5)"
     ]
    }
   ],
   "source": [
    "X = np.arange(25)\n",
    "X = np.reshape(X, (4,5))\n",
    "print(X)"
   ]
  },
  {
   "cell_type": "code",
   "execution_count": 126,
   "metadata": {},
   "outputs": [
    {
     "name": "stdout",
     "output_type": "stream",
     "text": [
      "[ 0  1  2  3  4  5  6  7  8  9 10 11 12 13 14 15 16 17 18 19]\n",
      "\n",
      "after .reshape:\n",
      "[[ 0  1  2  3  4]\n",
      " [ 5  6  7  8  9]\n",
      " [10 11 12 13 14]\n",
      " [15 16 17 18 19]]\n"
     ]
    }
   ],
   "source": [
    "X = np.arange(20)\n",
    "print(X)\n",
    "print('\\nafter .reshape:')\n",
    "X = np.reshape(X, (4,5))\n",
    "print(X)"
   ]
  },
  {
   "cell_type": "markdown",
   "metadata": {},
   "source": [
    "***\n",
    "* Some Numpy functions can also be used as methods.\n",
    ">*Note that when using reshape as a method the array does not get passed as an arg.*"
   ]
  },
  {
   "cell_type": "code",
   "execution_count": 127,
   "metadata": {
    "scrolled": true
   },
   "outputs": [
    {
     "name": "stdout",
     "output_type": "stream",
     "text": [
      "[[0 1 2 3 4]\n",
      " [5 6 7 8 9]]\n"
     ]
    }
   ],
   "source": [
    "X = np.arange(10).reshape((2, 5))\n",
    "print(X)"
   ]
  },
  {
   "cell_type": "code",
   "execution_count": 29,
   "metadata": {},
   "outputs": [
    {
     "name": "stdout",
     "output_type": "stream",
     "text": [
      "[[  0.   5.]\n",
      " [ 10.  15.]\n",
      " [ 20.  25.]\n",
      " [ 30.  35.]\n",
      " [ 40.  45.]]\n"
     ]
    }
   ],
   "source": [
    "X = np.linspace(0, 50, 10, endpoint=False).reshape(5,2)\n",
    "print(X)"
   ]
  },
  {
   "cell_type": "markdown",
   "metadata": {},
   "source": [
    "***\n",
    "*Random matrice generation is often used in Machine Learning design*  \n",
    "  \n",
    "* np.random.random((shape))\n",
    ">*The first .random accesses the module, the second accesses the function within the module.*\n"
   ]
  },
  {
   "cell_type": "code",
   "execution_count": 30,
   "metadata": {},
   "outputs": [
    {
     "name": "stdout",
     "output_type": "stream",
     "text": [
      "[[ 0.83998986  0.6902607   0.54554311]\n",
      " [ 0.38654949  0.44152518  0.65922539]\n",
      " [ 0.23599152  0.88906054  0.01891066]]\n"
     ]
    }
   ],
   "source": [
    "X = np.random.random((3, 3))\n",
    "print(X)"
   ]
  },
  {
   "cell_type": "markdown",
   "metadata": {},
   "source": [
    "***\n",
    "* np.random.randint(lowerbound, upperbound, (shape))"
   ]
  },
  {
   "cell_type": "code",
   "execution_count": 128,
   "metadata": {},
   "outputs": [
    {
     "name": "stdout",
     "output_type": "stream",
     "text": [
      "[[12 11]\n",
      " [13  5]\n",
      " [ 4 11]]\n"
     ]
    }
   ],
   "source": [
    "X = np.random.randint(4, 15, (3, 2))\n",
    "print(X)"
   ]
  },
  {
   "cell_type": "markdown",
   "metadata": {},
   "source": [
    "***\n",
    "* np.random.normal(mean, st.deviation, (shape))"
   ]
  },
  {
   "cell_type": "code",
   "execution_count": 32,
   "metadata": {},
   "outputs": [
    {
     "name": "stdout",
     "output_type": "stream",
     "text": [
      "[[-0.00196997  0.0409898   0.02499055 ..., -0.03179525 -0.1402223\n",
      "   0.01910703]\n",
      " [-0.24797291 -0.14724266 -0.08901773 ..., -0.06477495 -0.00420239\n",
      "   0.08245396]\n",
      " [-0.12206975  0.00290242  0.01018584 ..., -0.03280217  0.02678685\n",
      "   0.1609856 ]\n",
      " ..., \n",
      " [-0.17929758  0.10788027 -0.06834597 ..., -0.1200289  -0.03066488\n",
      "  -0.02681263]\n",
      " [ 0.14371202  0.11775155 -0.07463737 ..., -0.10565031  0.03909733\n",
      "  -0.15439013]\n",
      " [-0.03290552  0.02916288 -0.04208316 ..., -0.039172   -0.11553026\n",
      "   0.01001101]]\n"
     ]
    }
   ],
   "source": [
    "X = np.random.normal(0, 0.1, size=(1000, 1000))\n",
    "print(X)"
   ]
  },
  {
   "cell_type": "code",
   "execution_count": 33,
   "metadata": {},
   "outputs": [
    {
     "name": "stdout",
     "output_type": "stream",
     "text": [
      "mean: 0.000102676498708\n",
      "std: 0.100106910057\n",
      "max: 0.497801362809\n",
      "min: -0.468850023538\n",
      "# positive: 500421\n",
      "# negative: 499579\n"
     ]
    }
   ],
   "source": [
    "print('mean:', X.mean())\n",
    "print('std:', X.std())\n",
    "print('max:', X.max())\n",
    "print('min:', X.min())\n",
    "print('# positive:', (X > 0).sum())\n",
    "print('# negative:', (X < 0).sum())"
   ]
  },
  {
   "cell_type": "markdown",
   "metadata": {},
   "source": [
    "***\n",
    "### Accessing/Deleting/Inserting Elements into ndarrays"
   ]
  },
  {
   "cell_type": "code",
   "execution_count": 129,
   "metadata": {},
   "outputs": [],
   "source": [
    "rank_1_array = np.array([1,2,3,4,5])\n",
    "rank_2_array = np.array([[1,2,3,],[4,5,6],[7,8,9]])"
   ]
  },
  {
   "cell_type": "code",
   "execution_count": 125,
   "metadata": {
    "scrolled": true
   },
   "outputs": [
    {
     "name": "stdout",
     "output_type": "stream",
     "text": [
      "[ 1  2  3 20  5]\n",
      "1\n",
      "2\n",
      "5\n",
      "1\n"
     ]
    }
   ],
   "source": [
    "X = rank_1_array.copy()\n",
    "print(X)\n",
    "print(X[0])\n",
    "print(X[1])\n",
    "print(X[-1])\n",
    "print(X[-5])"
   ]
  },
  {
   "cell_type": "code",
   "execution_count": 36,
   "metadata": {},
   "outputs": [
    {
     "name": "stdout",
     "output_type": "stream",
     "text": [
      "[ 1  2  3 20  5]\n"
     ]
    }
   ],
   "source": [
    "X[3] = 20\n",
    "print(X)"
   ]
  },
  {
   "cell_type": "code",
   "execution_count": 130,
   "metadata": {
    "scrolled": true
   },
   "outputs": [
    {
     "name": "stdout",
     "output_type": "stream",
     "text": [
      "[[1 2 3]\n",
      " [4 5 6]\n",
      " [7 8 9]]\n"
     ]
    }
   ],
   "source": [
    "X = rank_2_array.copy()\n",
    "print(X)"
   ]
  },
  {
   "cell_type": "markdown",
   "metadata": {},
   "source": [
    "* ndarray[row, column]"
   ]
  },
  {
   "cell_type": "code",
   "execution_count": 38,
   "metadata": {},
   "outputs": [
    {
     "name": "stdout",
     "output_type": "stream",
     "text": [
      "1\n",
      "2\n",
      "9\n"
     ]
    }
   ],
   "source": [
    "print(X[0,0])\n",
    "print(X[0,1])\n",
    "print(X[2,2])"
   ]
  },
  {
   "cell_type": "code",
   "execution_count": 39,
   "metadata": {},
   "outputs": [
    {
     "name": "stdout",
     "output_type": "stream",
     "text": [
      "[[20  2  3]\n",
      " [ 4  5  6]\n",
      " [ 7  8  9]]\n"
     ]
    }
   ],
   "source": [
    "X[0,0] = 20\n",
    "print(X)"
   ]
  },
  {
   "cell_type": "markdown",
   "metadata": {},
   "source": [
    "***\n",
    "* np.delete(ndarray, elements, axis)\n",
    ">*For rank-1 arrays the axis is not required. For rank-2 arrays,* axis=0 *selects ROWS and* axis=1 *selects COLUMNS.*"
   ]
  },
  {
   "cell_type": "code",
   "execution_count": 131,
   "metadata": {},
   "outputs": [
    {
     "name": "stdout",
     "output_type": "stream",
     "text": [
      "1d array:\n",
      "[1 2 3 4 5]\n",
      "[2 3 4]\n"
     ]
    }
   ],
   "source": [
    "print('1d array:')\n",
    "X = rank_1_array.copy()\n",
    "print(X)\n",
    "X = np.delete(X, [0,4])\n",
    "print(X)"
   ]
  },
  {
   "cell_type": "code",
   "execution_count": 132,
   "metadata": {
    "scrolled": true
   },
   "outputs": [
    {
     "name": "stdout",
     "output_type": "stream",
     "text": [
      "2d array:\n",
      "[[1 2 3]\n",
      " [4 5 6]\n",
      " [7 8 9]]\n",
      "Delete first row (line 5):\n",
      "[[4 5 6]\n",
      " [7 8 9]]\n",
      "Delete first column (line 8):\n",
      "[[2 3]\n",
      " [5 6]\n",
      " [8 9]]\n",
      "Delete first and last column (line 11):\n",
      "[[2]\n",
      " [5]\n",
      " [8]]\n"
     ]
    }
   ],
   "source": [
    "print('2d array:')\n",
    "X = rank_2_array.copy()\n",
    "print(X)\n",
    "print('Delete first row (line 5):')\n",
    "Y = np.delete(X, 0, axis=0)\n",
    "print(Y)\n",
    "print('Delete first column (line 8):')\n",
    "Z = np.delete(X, 0, axis=1)\n",
    "print(Z)\n",
    "print('Delete first and last column (line 11):')\n",
    "X = np.delete(X, [0,2], axis=1)\n",
    "print(X)"
   ]
  },
  {
   "cell_type": "markdown",
   "metadata": {},
   "source": [
    "***\n",
    "* np.append(ndarray, elements, axis)\n",
    ">*For rank-1 arrays the axis is not required. For rank-2 arrays,* axis=0 *selects ROWS and* axis=1 *selects COLUMNS.*  \n",
    "*Note that the rows/column being appended must have the corret shape.*"
   ]
  },
  {
   "cell_type": "code",
   "execution_count": 133,
   "metadata": {
    "scrolled": false
   },
   "outputs": [
    {
     "name": "stdout",
     "output_type": "stream",
     "text": [
      "1d array:\n",
      "[1 2 3 4 5]\n",
      "Append int 6 to array (line 5):\n",
      "[1 2 3 4 5 6]\n",
      "Append int's 7 & 8 to array (line 8)\n",
      "[1 2 3 4 5 6 7 8]\n"
     ]
    }
   ],
   "source": [
    "print('1d array:')\n",
    "X = rank_1_array.copy()\n",
    "print(X)\n",
    "print('Append int 6 to array (line 5):')\n",
    "X = np.append(X, 6)\n",
    "print(X)\n",
    "print(\"Append int's 7 & 8 to array (line 8)\")\n",
    "X = np.append(X, [7,8])\n",
    "print(X)"
   ]
  },
  {
   "cell_type": "code",
   "execution_count": 134,
   "metadata": {
    "scrolled": false
   },
   "outputs": [
    {
     "name": "stdout",
     "output_type": "stream",
     "text": [
      "2d array:\n",
      "[[1 2 3]\n",
      " [4 5 6]]\n",
      "Append new row containing [7,8,9] (line 5):\n",
      "[[1 2 3]\n",
      " [4 5 6]\n",
      " [7 8 9]]\n",
      "Append new column containing [9], [10], [11] (line 8):\n",
      "[[ 1  2  3  9]\n",
      " [ 4  5  6 10]\n",
      " [ 7  8  9 11]]\n"
     ]
    }
   ],
   "source": [
    "print('2d array:')\n",
    "X = np.delete(rank_2_array, 2, axis=0)\n",
    "print(X)\n",
    "print('Append new row containing [7,8,9] (line 5):')\n",
    "X = np.append(X, [[7,8,9]], axis=0)\n",
    "print(X)\n",
    "print('Append new column containing [9], [10], [11] (line 8):')\n",
    "X = np.append(X, [[9],[10],[11]], axis=1)\n",
    "print(X)"
   ]
  },
  {
   "cell_type": "markdown",
   "metadata": {},
   "source": [
    "***\n",
    "* np.insert(ndarray, index, elements, axis)\n",
    ">*For rank-1 arrays the axis is not required. For rank-2 arrays, axis=0 selects ROWS and axis=1 selects COLUMNS.*  \n",
    "*Note that the rows/column being appended must have the corret shape.*\n"
   ]
  },
  {
   "cell_type": "code",
   "execution_count": 135,
   "metadata": {},
   "outputs": [
    {
     "name": "stdout",
     "output_type": "stream",
     "text": [
      "[1 2 3 4 5]\n",
      "[1 2 3 4 3 4 5]\n"
     ]
    }
   ],
   "source": [
    "X = rank_1_array.copy()\n",
    "print(X)\n",
    "X = np.insert(X, 2, [3,4])\n",
    "print(X)"
   ]
  },
  {
   "cell_type": "code",
   "execution_count": 136,
   "metadata": {},
   "outputs": [
    {
     "name": "stdout",
     "output_type": "stream",
     "text": [
      "[[1 2 3]\n",
      " [4 5 6]\n",
      " [7 8 9]]\n",
      "Insert a row between first and last row (line 4):\n",
      "[[1 2 3]\n",
      " [4 5 6]\n",
      " [4 5 6]\n",
      " [7 8 9]]\n",
      "Insert a column full of 5's between first and second column (line 8):\n",
      "[[1 5 2 3]\n",
      " [4 5 5 6]\n",
      " [7 5 8 9]]\n"
     ]
    }
   ],
   "source": [
    "X = rank_2_array.copy()\n",
    "print(X)\n",
    "print('Insert a row between first and last row (line 4):')\n",
    "X = np.insert(X, 1,[4,5,6], axis=0)\n",
    "print(X)\n",
    "X = rank_2_array.copy()\n",
    "print(\"Insert a column full of 5's between first and second column (line 8):\")\n",
    "X = np.insert(X, 1, 5, axis=1)\n",
    "print(X)"
   ]
  },
  {
   "cell_type": "markdown",
   "metadata": {},
   "source": [
    "***\n",
    "* np.vstack(stack, ndarray)\n",
    ">*Note that the item being stacked must have the correct shape. See how the hstack example uses .reshape to transform the appended array into a suitable shape.*"
   ]
  },
  {
   "cell_type": "code",
   "execution_count": 46,
   "metadata": {},
   "outputs": [
    {
     "name": "stdout",
     "output_type": "stream",
     "text": [
      "Rank 1 array:\n",
      "[1 2]\n",
      "Rank 2 array:\n",
      "[[3 4]\n",
      " [5 6]]\n",
      "Stacked with vstack: (line 7):\n",
      "[[1 2]\n",
      " [3 4]\n",
      " [5 6]]\n",
      "Stacked with hstack: (line 9):\n",
      "[[3 4 1]\n",
      " [5 6 2]]\n"
     ]
    }
   ],
   "source": [
    "X = np.array([1,2])\n",
    "print('Rank 1 array:')\n",
    "print(X)\n",
    "Y = np.array([[3,4],[5,6]])\n",
    "print('Rank 2 array:')\n",
    "print(Y)\n",
    "Z = np.vstack((X, Y))\n",
    "print('Stacked with vstack: (line 7):')\n",
    "print(Z)\n",
    "print('Stacked with hstack: (line 9):')\n",
    "Z = np.hstack((Y, X.reshape(2,1)))\n",
    "print(Z)"
   ]
  },
  {
   "cell_type": "markdown",
   "metadata": {},
   "source": [
    "***\n",
    "### Slicing  \n",
    "* ndarray[row_start:row_end, column_start:column_end]\n",
    ">*WARNING: assigning a new variable name to a slice of a ndarray only creates a \"view\" of that ndarray. If the variable assigned to the slice is changed, the original ndarray will be changed as well. Example follows below (issue can be avoided by using .copy function).*"
   ]
  },
  {
   "cell_type": "code",
   "execution_count": 67,
   "metadata": {
    "scrolled": false
   },
   "outputs": [
    {
     "name": "stdout",
     "output_type": "stream",
     "text": [
      "[[ 1  2  3  4  5]\n",
      " [ 6  7  8  9 10]\n",
      " [11 12 13 14 15]\n",
      " [16 17 18 19 20]]\n",
      "\n",
      "After slice [1:4, 2:5]:\n",
      "[[ 8  9 10]\n",
      " [13 14 15]\n",
      " [18 19 20]]\n",
      "\n",
      "After slice [2:, 1:]\n",
      "[[12 13 14 15]\n",
      " [17 18 19 20]]\n",
      "\n",
      "After slice [:, 2] (notice it returns rank 1 array):\n",
      "[ 3  8 13 18]\n",
      "\n",
      "After slice [:, 2:3] (notice it returns rank 2 array):\n",
      "[[ 3]\n",
      " [ 8]\n",
      " [13]\n",
      " [18]]\n"
     ]
    }
   ],
   "source": [
    "x = np.arange(1, 21).reshape(4,5)\n",
    "print(x)\n",
    "print('\\nAfter slice [1:4, 2:5]:')\n",
    "my_slice = x[1:4, 2:5]\n",
    "print(my_slice)\n",
    "print ('\\nAfter slice [2:, 1:]')\n",
    "my_slice = x[2:, 1:]\n",
    "print(my_slice)\n",
    "print('\\nAfter slice [:, 2] (notice it returns rank 1 array):')\n",
    "my_slice = x[:, 2]\n",
    "print(my_slice)\n",
    "my_slice = x[:, 2:3]\n",
    "print('\\nAfter slice [:, 2:3] (notice it returns rank 2 array):')\n",
    "print(my_slice)"
   ]
  },
  {
   "cell_type": "markdown",
   "metadata": {},
   "source": [
    "* example of \"view\" variable assignment:"
   ]
  },
  {
   "cell_type": "code",
   "execution_count": 87,
   "metadata": {},
   "outputs": [
    {
     "name": "stdout",
     "output_type": "stream",
     "text": [
      "[[ 1  2  3  4  5]\n",
      " [ 6  7  8  9 10]\n",
      " [11 12 13 14 15]\n",
      " [16 17 18 19 20]]\n",
      "\n",
      "Slice: \n",
      "[[ 8  9 10]\n",
      " [13 14 15]\n",
      " [18 19 20]]\n",
      "\n",
      "Last entry in slice changed to 55 (line 7):\n",
      "[[ 8  9 10]\n",
      " [13 14 15]\n",
      " [18 19 55]]\n",
      "\n",
      "Original ndarray changed too:\n",
      "[[ 1  2  3  4  5]\n",
      " [ 6  7  8  9 10]\n",
      " [11 12 13 14 15]\n",
      " [16 17 18 19 55]]\n"
     ]
    }
   ],
   "source": [
    "x = np.arange(1, 21).reshape(4,5)\n",
    "print(x)\n",
    "print('\\nSlice: ')\n",
    "my_slice = x[1:, 2:]\n",
    "print(my_slice)\n",
    "print('\\nLast entry in slice changed to 55 (line 7):')\n",
    "my_slice[2, 2] = 55\n",
    "print(my_slice)\n",
    "print('\\nOriginal ndarray changed too:')\n",
    "print(x)"
   ]
  },
  {
   "cell_type": "markdown",
   "metadata": {},
   "source": [
    "***\n",
    "* np.copy()\n",
    ">*Avoids above problem."
   ]
  },
  {
   "cell_type": "code",
   "execution_count": 95,
   "metadata": {
    "scrolled": false
   },
   "outputs": [
    {
     "name": "stdout",
     "output_type": "stream",
     "text": [
      "Changed slice:\n",
      "[[ 8  9 10]\n",
      " [13 14 15]\n",
      " [18 19 55]]\n",
      "\n",
      "Unchanged original:\n",
      "[[ 1  2  3  4  5]\n",
      " [ 6  7  8  9 10]\n",
      " [11 12 13 14 15]\n",
      " [16 17 18 19 20]]\n"
     ]
    }
   ],
   "source": [
    "x = np.arange(1, 21).reshape(4,5)\n",
    "my_slice = x[1:, 2:].copy()\n",
    "my_slice[2, 2] = 55\n",
    "print('Changed slice:')\n",
    "print(my_slice)\n",
    "print('\\nUnchanged original:')\n",
    "print(x)"
   ]
  },
  {
   "cell_type": "markdown",
   "metadata": {},
   "source": [
    "***\n",
    "* Indices: use one ndarray to make slices, select, or change elements in another ndarray."
   ]
  },
  {
   "cell_type": "code",
   "execution_count": 101,
   "metadata": {
    "scrolled": true
   },
   "outputs": [
    {
     "name": "stdout",
     "output_type": "stream",
     "text": [
      "[[ 0  1  2  3  4]\n",
      " [ 5  6  7  8  9]\n",
      " [10 11 12 13 14]\n",
      " [15 16 17 18 19]]\n",
      "\n",
      "Indices:  [1 3]\n",
      "\n",
      "Selection from rows using indices:\n",
      "[[ 5  6  7  8  9]\n",
      " [15 16 17 18 19]]\n",
      "\n",
      "Selection from columns using indices:\n",
      "[[ 1  3]\n",
      " [ 6  8]\n",
      " [11 13]\n",
      " [16 18]]\n"
     ]
    }
   ],
   "source": [
    "x = np.arange(20).reshape(4,5)\n",
    "print(x)\n",
    "indices = np.array([1,3])\n",
    "print('\\nIndices: ', indices)\n",
    "z = x[indices, :]\n",
    "print('\\nSelection from rows using indices:')\n",
    "print(z)\n",
    "z = x[:, indices]\n",
    "print('\\nSelection from columns using indices:')\n",
    "print(z)"
   ]
  },
  {
   "cell_type": "markdown",
   "metadata": {},
   "source": [
    "***\n",
    "* np.diag(ndarray, k=N)\n",
    ">k=N *is the position relative to the main diagonal with positive values selecting to the right and negative values selecting to the left.*"
   ]
  },
  {
   "cell_type": "code",
   "execution_count": 112,
   "metadata": {},
   "outputs": [
    {
     "name": "stdout",
     "output_type": "stream",
     "text": [
      "[[ 0  1  2  3  4]\n",
      " [ 5  6  7  8  9]\n",
      " [10 11 12 13 14]\n",
      " [15 16 17 18 19]\n",
      " [20 21 22 23 24]] \n",
      "\n",
      "elements in main diag:  [ 0  6 12 18 24]\n",
      "\n",
      "elements above main diag (k=1): [ 1  7 13 19]\n",
      "\n",
      "elements below main diag (k=-1): [ 5 11 17 23]\n"
     ]
    }
   ],
   "source": [
    "x = np.arange(25).reshape(5,5)\n",
    "print(x,'\\n')\n",
    "print('elements in main diag: ', np.diag(x))\n",
    "print('\\nelements above main diag (k=1):', np.diag(x, k=1))\n",
    "print('\\nelements below main diag (k=-1):', np.diag(x, k=-1))"
   ]
  },
  {
   "cell_type": "markdown",
   "metadata": {},
   "source": [
    "***\n",
    "* np.unique(ndarray)"
   ]
  },
  {
   "cell_type": "code",
   "execution_count": 114,
   "metadata": {},
   "outputs": [
    {
     "name": "stdout",
     "output_type": "stream",
     "text": [
      "Unique elements are: [1 2 3 5 8]\n"
     ]
    }
   ],
   "source": [
    "x = np.array([[1,2,3],[5,2,8],[1,2,3]])\n",
    "print('Unique elements are:', np.unique(x))"
   ]
  },
  {
   "cell_type": "markdown",
   "metadata": {},
   "source": [
    "***\n",
    "### Boolean Indexing"
   ]
  },
  {
   "cell_type": "code",
   "execution_count": 123,
   "metadata": {
    "scrolled": false
   },
   "outputs": [
    {
     "name": "stdout",
     "output_type": "stream",
     "text": [
      "[[ 0  1  2  3  4]\n",
      " [ 5  6  7  8  9]\n",
      " [10 11 12 13 14]\n",
      " [15 16 17 18 19]\n",
      " [20 21 22 23 24]] \n",
      "\n",
      "Elements in x greater than 10: [11 12 13 14 15 16 17 18 19 20 21 22 23 24]\n",
      "Elements in x less than or equal to 7: [0 1 2 3 4 5 6 7]\n",
      "Elements in x between 10 and 17: [11 12 13 14 15 16]\n",
      "\n",
      "Reassigning values between 10 and 17 to -1:\n",
      "[[ 0  1  2  3  4]\n",
      " [ 5  6  7  8  9]\n",
      " [10 -1 -1 -1 -1]\n",
      " [-1 -1 17 18 19]\n",
      " [20 21 22 23 24]]\n"
     ]
    }
   ],
   "source": [
    "x = np.arange(25).reshape(5, 5)\n",
    "print(x,'\\n')\n",
    "print('Elements in x greater than 10:', x[x > 10])\n",
    "print('Elements in x less than or equal to 7:', x[x <= 7])\n",
    "print('Elements in x between 10 and 17:', x[(x > 10) & (x < 17)])\n",
    "\n",
    "print('\\nReassigning values between 10 and 17 to -1:')\n",
    "x[(x > 10) & (x < 17)] = -1\n",
    "print(x)"
   ]
  },
  {
   "cell_type": "markdown",
   "metadata": {},
   "source": [
    "***\n",
    "Set Operations:\n",
    "* np.intersect1d(first_rank1, second_rank2)\n",
    "* np.setdiff1d(first_rank1, second_rank2)\n",
    "* np.union1d(first_rank1, second_rank2)"
   ]
  },
  {
   "cell_type": "code",
   "execution_count": 144,
   "metadata": {},
   "outputs": [
    {
     "name": "stdout",
     "output_type": "stream",
     "text": [
      "x: [1 2 3 4 5]\n",
      "y: [6 7 2 8 4]\n",
      "Elements in both x and y: [2 4]\n",
      "Elements in x that are not in y: [1 3 5]\n",
      "All elements of both x and y: [1 2 3 4 5 6 7 8]\n"
     ]
    }
   ],
   "source": [
    "x = rank_1_array.copy()\n",
    "y = np.array([6,7,2,8,4])\n",
    "print('x:',x)\n",
    "print('y:',y)\n",
    "print('Elements in both x and y:', np.intersect1d(x,y))\n",
    "print('Elements in x that are not in y:', np.setdiff1d(x,y))\n",
    "print('All elements of both x and y:', np.union1d(x,y))"
   ]
  },
  {
   "cell_type": "code",
   "execution_count": null,
   "metadata": {},
   "outputs": [],
   "source": []
  }
 ],
 "metadata": {
  "kernelspec": {
   "display_name": "Python [conda env:udacity] *",
   "language": "python",
   "name": "conda-env-udacity-py"
  },
  "language_info": {
   "codemirror_mode": {
    "name": "ipython",
    "version": 3
   },
   "file_extension": ".py",
   "mimetype": "text/x-python",
   "name": "python",
   "nbconvert_exporter": "python",
   "pygments_lexer": "ipython3",
   "version": "3.6.3"
  }
 },
 "nbformat": 4,
 "nbformat_minor": 4
}

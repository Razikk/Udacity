{
 "cells": [
  {
   "cell_type": "code",
   "execution_count": 2,
   "metadata": {},
   "outputs": [],
   "source": [
    "import numpy as np"
   ]
  },
  {
   "cell_type": "markdown",
   "metadata": {},
   "source": [
    "***\n",
    "* np.array([array sequence])"
   ]
  },
  {
   "cell_type": "code",
   "execution_count": 3,
   "metadata": {},
   "outputs": [
    {
     "name": "stdout",
     "output_type": "stream",
     "text": [
      "[1 2 3 4 5]\n"
     ]
    }
   ],
   "source": [
    "X = np.array([1, 2, 3, 4, 5])\n",
    "print(X)"
   ]
  },
  {
   "cell_type": "markdown",
   "metadata": {},
   "source": [
    "***\n",
    "* np.zeros(shape)"
   ]
  },
  {
   "cell_type": "code",
   "execution_count": 4,
   "metadata": {
    "scrolled": false
   },
   "outputs": [
    {
     "name": "stdout",
     "output_type": "stream",
     "text": [
      "[[ 0.  0.  0.  0.]\n",
      " [ 0.  0.  0.  0.]\n",
      " [ 0.  0.  0.  0.]]\n",
      "float64\n"
     ]
    }
   ],
   "source": [
    "X = np.zeros((3,4))\n",
    "print(X)\n",
    "print(X.dtype)"
   ]
  },
  {
   "cell_type": "markdown",
   "metadata": {},
   "source": [
    "***\n",
    "* np.ones(shape)"
   ]
  },
  {
   "cell_type": "code",
   "execution_count": 5,
   "metadata": {},
   "outputs": [
    {
     "name": "stdout",
     "output_type": "stream",
     "text": [
      "[['1' '1']\n",
      " ['1' '1']\n",
      " ['1' '1']]\n"
     ]
    }
   ],
   "source": [
    "X = np.ones((3,2), dtype=str)\n",
    "print(X)"
   ]
  },
  {
   "cell_type": "markdown",
   "metadata": {},
   "source": [
    "***\n",
    "* np.full(shape, constant value)"
   ]
  },
  {
   "cell_type": "code",
   "execution_count": 6,
   "metadata": {
    "scrolled": false
   },
   "outputs": [
    {
     "name": "stdout",
     "output_type": "stream",
     "text": [
      "[[5 5 5]\n",
      " [5 5 5]\n",
      " [5 5 5]\n",
      " [5 5 5]]\n",
      "int32\n"
     ]
    }
   ],
   "source": [
    "X = np.full((4,3), 5)\n",
    "print(X)\n",
    "print(X.dtype)"
   ]
  },
  {
   "cell_type": "markdown",
   "metadata": {},
   "source": [
    "***\n",
    "* np.eye(N)\n",
    ">*returns an 'identity matrix', an NxN matrix with 1's along main diagonal and 0's elsewhere*"
   ]
  },
  {
   "cell_type": "code",
   "execution_count": 7,
   "metadata": {
    "scrolled": true
   },
   "outputs": [
    {
     "name": "stdout",
     "output_type": "stream",
     "text": [
      "[[1 0 0 0 0]\n",
      " [0 1 0 0 0]\n",
      " [0 0 1 0 0]\n",
      " [0 0 0 1 0]\n",
      " [0 0 0 0 1]]\n"
     ]
    }
   ],
   "source": [
    "X = np.eye(5, dtype=int)\n",
    "print(X)"
   ]
  },
  {
   "cell_type": "markdown",
   "metadata": {},
   "source": [
    "***\n",
    "* np.diag(1d array)"
   ]
  },
  {
   "cell_type": "code",
   "execution_count": 8,
   "metadata": {
    "scrolled": true
   },
   "outputs": [
    {
     "name": "stdout",
     "output_type": "stream",
     "text": [
      "[[10  0  0  0  0]\n",
      " [ 0 20  0  0  0]\n",
      " [ 0  0 30  0  0]\n",
      " [ 0  0  0 40  0]\n",
      " [ 0  0  0  0 50]]\n"
     ]
    }
   ],
   "source": [
    "X = np.diag([10, 20, 30, 40, 50])\n",
    "print(X)"
   ]
  },
  {
   "cell_type": "markdown",
   "metadata": {},
   "source": [
    "***\n",
    "* np.arange(start, stop, step)\n",
    ">*Note that stop is EXclusive (n-1)*"
   ]
  },
  {
   "cell_type": "code",
   "execution_count": 9,
   "metadata": {
    "scrolled": true
   },
   "outputs": [
    {
     "name": "stdout",
     "output_type": "stream",
     "text": [
      "[0 1 2 3 4]\n"
     ]
    }
   ],
   "source": [
    "X = np.arange(5)\n",
    "print(X)"
   ]
  },
  {
   "cell_type": "code",
   "execution_count": 10,
   "metadata": {
    "scrolled": true
   },
   "outputs": [
    {
     "name": "stdout",
     "output_type": "stream",
     "text": [
      "[ 0.  2.  4.]\n"
     ]
    }
   ],
   "source": [
    "X = np.arange(0, 6, 2, dtype=float)\n",
    "print(X)"
   ]
  },
  {
   "cell_type": "markdown",
   "metadata": {},
   "source": [
    "***\n",
    "* np.linspace(start, stop, N)\n",
    ">*Note that stop is INclusive unless*  endpoint=False  \n",
    "*Also note that*  N=50  *by default*"
   ]
  },
  {
   "cell_type": "code",
   "execution_count": 11,
   "metadata": {},
   "outputs": [
    {
     "name": "stdout",
     "output_type": "stream",
     "text": [
      "[  0.           2.77777778   5.55555556   8.33333333  11.11111111\n",
      "  13.88888889  16.66666667  19.44444444  22.22222222  25.        ]\n"
     ]
    }
   ],
   "source": [
    "X = np.linspace(0, 25, 10)\n",
    "print(X)"
   ]
  },
  {
   "cell_type": "code",
   "execution_count": 12,
   "metadata": {},
   "outputs": [
    {
     "name": "stdout",
     "output_type": "stream",
     "text": [
      "[  0.    2.5   5.    7.5  10.   12.5  15.   17.5  20.   22.5]\n"
     ]
    }
   ],
   "source": [
    "X = np.linspace(0, 25, 10, endpoint=False)\n",
    "print(X)"
   ]
  },
  {
   "cell_type": "code",
   "execution_count": 13,
   "metadata": {},
   "outputs": [
    {
     "name": "stdout",
     "output_type": "stream",
     "text": [
      "[  0.           0.20408163   0.40816327   0.6122449    0.81632653\n",
      "   1.02040816   1.2244898    1.42857143   1.63265306   1.83673469\n",
      "   2.04081633   2.24489796   2.44897959   2.65306122   2.85714286\n",
      "   3.06122449   3.26530612   3.46938776   3.67346939   3.87755102\n",
      "   4.08163265   4.28571429   4.48979592   4.69387755   4.89795918\n",
      "   5.10204082   5.30612245   5.51020408   5.71428571   5.91836735\n",
      "   6.12244898   6.32653061   6.53061224   6.73469388   6.93877551\n",
      "   7.14285714   7.34693878   7.55102041   7.75510204   7.95918367\n",
      "   8.16326531   8.36734694   8.57142857   8.7755102    8.97959184\n",
      "   9.18367347   9.3877551    9.59183673   9.79591837  10.        ]\n"
     ]
    }
   ],
   "source": [
    "X = np.linspace(0, 10)\n",
    "print(X)"
   ]
  },
  {
   "cell_type": "markdown",
   "metadata": {},
   "source": [
    "***\n",
    "* np.reshape(ndarray, shape)\n",
    ">*Note that the number of elements in* ndarray *must be divisible into* shape"
   ]
  },
  {
   "cell_type": "code",
   "execution_count": 14,
   "metadata": {},
   "outputs": [
    {
     "ename": "ValueError",
     "evalue": "cannot reshape array of size 25 into shape (4,5)",
     "output_type": "error",
     "traceback": [
      "\u001b[1;31m---------------------------------------------------------------------------\u001b[0m",
      "\u001b[1;31mValueError\u001b[0m                                Traceback (most recent call last)",
      "\u001b[1;32m<ipython-input-14-7f8f3fb186dd>\u001b[0m in \u001b[0;36m<module>\u001b[1;34m\u001b[0m\n\u001b[0;32m      1\u001b[0m \u001b[0mX\u001b[0m \u001b[1;33m=\u001b[0m \u001b[0mnp\u001b[0m\u001b[1;33m.\u001b[0m\u001b[0marange\u001b[0m\u001b[1;33m(\u001b[0m\u001b[1;36m25\u001b[0m\u001b[1;33m)\u001b[0m\u001b[1;33m\u001b[0m\u001b[0m\n\u001b[1;32m----> 2\u001b[1;33m \u001b[0mX\u001b[0m \u001b[1;33m=\u001b[0m \u001b[0mnp\u001b[0m\u001b[1;33m.\u001b[0m\u001b[0mreshape\u001b[0m\u001b[1;33m(\u001b[0m\u001b[0mX\u001b[0m\u001b[1;33m,\u001b[0m \u001b[1;33m(\u001b[0m\u001b[1;36m4\u001b[0m\u001b[1;33m,\u001b[0m\u001b[1;36m5\u001b[0m\u001b[1;33m)\u001b[0m\u001b[1;33m)\u001b[0m\u001b[1;33m\u001b[0m\u001b[0m\n\u001b[0m\u001b[0;32m      3\u001b[0m \u001b[0mprint\u001b[0m\u001b[1;33m(\u001b[0m\u001b[0mX\u001b[0m\u001b[1;33m)\u001b[0m\u001b[1;33m\u001b[0m\u001b[0m\n",
      "\u001b[1;32m~\\anaconda3\\envs\\udacity\\lib\\site-packages\\numpy\\core\\fromnumeric.py\u001b[0m in \u001b[0;36mreshape\u001b[1;34m(a, newshape, order)\u001b[0m\n\u001b[0;32m    230\u001b[0m            [5, 6]])\n\u001b[0;32m    231\u001b[0m     \"\"\"\n\u001b[1;32m--> 232\u001b[1;33m     \u001b[1;32mreturn\u001b[0m \u001b[0m_wrapfunc\u001b[0m\u001b[1;33m(\u001b[0m\u001b[0ma\u001b[0m\u001b[1;33m,\u001b[0m \u001b[1;34m'reshape'\u001b[0m\u001b[1;33m,\u001b[0m \u001b[0mnewshape\u001b[0m\u001b[1;33m,\u001b[0m \u001b[0morder\u001b[0m\u001b[1;33m=\u001b[0m\u001b[0morder\u001b[0m\u001b[1;33m)\u001b[0m\u001b[1;33m\u001b[0m\u001b[0m\n\u001b[0m\u001b[0;32m    233\u001b[0m \u001b[1;33m\u001b[0m\u001b[0m\n\u001b[0;32m    234\u001b[0m \u001b[1;33m\u001b[0m\u001b[0m\n",
      "\u001b[1;32m~\\anaconda3\\envs\\udacity\\lib\\site-packages\\numpy\\core\\fromnumeric.py\u001b[0m in \u001b[0;36m_wrapfunc\u001b[1;34m(obj, method, *args, **kwds)\u001b[0m\n\u001b[0;32m     55\u001b[0m \u001b[1;32mdef\u001b[0m \u001b[0m_wrapfunc\u001b[0m\u001b[1;33m(\u001b[0m\u001b[0mobj\u001b[0m\u001b[1;33m,\u001b[0m \u001b[0mmethod\u001b[0m\u001b[1;33m,\u001b[0m \u001b[1;33m*\u001b[0m\u001b[0margs\u001b[0m\u001b[1;33m,\u001b[0m \u001b[1;33m**\u001b[0m\u001b[0mkwds\u001b[0m\u001b[1;33m)\u001b[0m\u001b[1;33m:\u001b[0m\u001b[1;33m\u001b[0m\u001b[0m\n\u001b[0;32m     56\u001b[0m     \u001b[1;32mtry\u001b[0m\u001b[1;33m:\u001b[0m\u001b[1;33m\u001b[0m\u001b[0m\n\u001b[1;32m---> 57\u001b[1;33m         \u001b[1;32mreturn\u001b[0m \u001b[0mgetattr\u001b[0m\u001b[1;33m(\u001b[0m\u001b[0mobj\u001b[0m\u001b[1;33m,\u001b[0m \u001b[0mmethod\u001b[0m\u001b[1;33m)\u001b[0m\u001b[1;33m(\u001b[0m\u001b[1;33m*\u001b[0m\u001b[0margs\u001b[0m\u001b[1;33m,\u001b[0m \u001b[1;33m**\u001b[0m\u001b[0mkwds\u001b[0m\u001b[1;33m)\u001b[0m\u001b[1;33m\u001b[0m\u001b[0m\n\u001b[0m\u001b[0;32m     58\u001b[0m \u001b[1;33m\u001b[0m\u001b[0m\n\u001b[0;32m     59\u001b[0m     \u001b[1;31m# An AttributeError occurs if the object does not have\u001b[0m\u001b[1;33m\u001b[0m\u001b[1;33m\u001b[0m\u001b[0m\n",
      "\u001b[1;31mValueError\u001b[0m: cannot reshape array of size 25 into shape (4,5)"
     ]
    }
   ],
   "source": [
    "X = np.arange(25)\n",
    "X = np.reshape(X, (4,5))\n",
    "print(X)"
   ]
  },
  {
   "cell_type": "code",
   "execution_count": 15,
   "metadata": {},
   "outputs": [
    {
     "name": "stdout",
     "output_type": "stream",
     "text": [
      "[ 0  1  2  3  4  5  6  7  8  9 10 11 12 13 14 15 16 17 18 19]\n",
      "\n",
      "after .reshape:\n",
      "[[ 0  1  2  3  4]\n",
      " [ 5  6  7  8  9]\n",
      " [10 11 12 13 14]\n",
      " [15 16 17 18 19]]\n"
     ]
    }
   ],
   "source": [
    "X = np.arange(20)\n",
    "print(X)\n",
    "print('\\nafter .reshape:')\n",
    "X = np.reshape(X, (4,5))\n",
    "print(X)"
   ]
  },
  {
   "cell_type": "markdown",
   "metadata": {},
   "source": [
    "***\n",
    "* Some Numpy functions can also be used as methods.\n",
    ">*Note that when using reshape as a method the array does not get passed as an arg.*"
   ]
  },
  {
   "cell_type": "code",
   "execution_count": 16,
   "metadata": {
    "scrolled": true
   },
   "outputs": [
    {
     "name": "stdout",
     "output_type": "stream",
     "text": [
      "[[0 1 2 3 4]\n",
      " [5 6 7 8 9]]\n"
     ]
    }
   ],
   "source": [
    "X = np.arange(10).reshape((2, 5))\n",
    "print(X)"
   ]
  },
  {
   "cell_type": "code",
   "execution_count": 17,
   "metadata": {},
   "outputs": [
    {
     "name": "stdout",
     "output_type": "stream",
     "text": [
      "[[  0.   5.]\n",
      " [ 10.  15.]\n",
      " [ 20.  25.]\n",
      " [ 30.  35.]\n",
      " [ 40.  45.]]\n"
     ]
    }
   ],
   "source": [
    "X = np.linspace(0, 50, 10, endpoint=False).reshape(5,2)\n",
    "print(X)"
   ]
  },
  {
   "cell_type": "markdown",
   "metadata": {},
   "source": [
    "***\n",
    "*Random matrice generation is often used in Machine Learning design*  \n",
    "  \n",
    "* np.random.random((shape))\n",
    ">*The first .random accesses the module, the second accesses the function within the module.*\n"
   ]
  },
  {
   "cell_type": "code",
   "execution_count": 18,
   "metadata": {},
   "outputs": [
    {
     "name": "stdout",
     "output_type": "stream",
     "text": [
      "[[ 0.56688253  0.62680476  0.17215873]\n",
      " [ 0.41482641  0.17316922  0.21974305]\n",
      " [ 0.74288732  0.62561913  0.85133249]]\n"
     ]
    }
   ],
   "source": [
    "X = np.random.random((3, 3))\n",
    "print(X)"
   ]
  },
  {
   "cell_type": "markdown",
   "metadata": {},
   "source": [
    "***\n",
    "* np.random.randint(lowerbound, upperbound, (shape))"
   ]
  },
  {
   "cell_type": "code",
   "execution_count": 19,
   "metadata": {},
   "outputs": [
    {
     "name": "stdout",
     "output_type": "stream",
     "text": [
      "[[ 9  9]\n",
      " [ 8 13]\n",
      " [13  9]]\n"
     ]
    }
   ],
   "source": [
    "X = np.random.randint(4, 15, (3, 2))\n",
    "print(X)"
   ]
  },
  {
   "cell_type": "markdown",
   "metadata": {},
   "source": [
    "***\n",
    "* np.random.normal(mean, st.deviation, (shape))"
   ]
  },
  {
   "cell_type": "code",
   "execution_count": 20,
   "metadata": {},
   "outputs": [
    {
     "name": "stdout",
     "output_type": "stream",
     "text": [
      "[[ 0.07852809 -0.06156881 -0.10557596 ...,  0.00548524 -0.05758747\n",
      "  -0.1353126 ]\n",
      " [-0.09572056 -0.1040958  -0.01726788 ..., -0.00370446 -0.11373512\n",
      "  -0.16418314]\n",
      " [ 0.05246081  0.0187954   0.03487227 ..., -0.0404041   0.04240299\n",
      "  -0.15814434]\n",
      " ..., \n",
      " [-0.03378651  0.05306458 -0.01029184 ..., -0.08944436 -0.00225956\n",
      "  -0.0713864 ]\n",
      " [ 0.03606597 -0.02102001 -0.02244078 ..., -0.01843103 -0.05424523\n",
      "  -0.1052696 ]\n",
      " [-0.09353838 -0.07966593 -0.14786712 ..., -0.09544415 -0.0722342\n",
      "  -0.24776281]]\n"
     ]
    }
   ],
   "source": [
    "X = np.random.normal(0, 0.1, size=(1000, 1000))\n",
    "print(X)"
   ]
  },
  {
   "cell_type": "code",
   "execution_count": 21,
   "metadata": {},
   "outputs": [
    {
     "name": "stdout",
     "output_type": "stream",
     "text": [
      "mean: -0.000124004856795\n",
      "std: 0.100011598956\n",
      "max: 0.468824893992\n",
      "min: -0.459826948801\n",
      "# positive: 499405\n",
      "# negative: 500595\n"
     ]
    }
   ],
   "source": [
    "print('mean:', X.mean())\n",
    "print('std:', X.std())\n",
    "print('max:', X.max())\n",
    "print('min:', X.min())\n",
    "print('# positive:', (X > 0).sum())\n",
    "print('# negative:', (X < 0).sum())"
   ]
  },
  {
   "cell_type": "markdown",
   "metadata": {},
   "source": [
    "***\n",
    "### Accessing/Deleting/Inserting Elements into ndarrays"
   ]
  },
  {
   "cell_type": "code",
   "execution_count": 22,
   "metadata": {},
   "outputs": [],
   "source": [
    "rank_1_array = np.array([1,2,3,4,5])\n",
    "rank_2_array = np.array([[1,2,3,],[4,5,6],[7,8,9]])"
   ]
  },
  {
   "cell_type": "code",
   "execution_count": 23,
   "metadata": {
    "scrolled": true
   },
   "outputs": [
    {
     "name": "stdout",
     "output_type": "stream",
     "text": [
      "[1 2 3 4 5]\n",
      "1\n",
      "2\n",
      "5\n",
      "1\n"
     ]
    }
   ],
   "source": [
    "X = rank_1_array.copy()\n",
    "print(X)\n",
    "print(X[0])\n",
    "print(X[1])\n",
    "print(X[-1])\n",
    "print(X[-5])"
   ]
  },
  {
   "cell_type": "code",
   "execution_count": 24,
   "metadata": {},
   "outputs": [
    {
     "name": "stdout",
     "output_type": "stream",
     "text": [
      "[ 1  2  3 20  5]\n"
     ]
    }
   ],
   "source": [
    "X[3] = 20\n",
    "print(X)"
   ]
  },
  {
   "cell_type": "code",
   "execution_count": 25,
   "metadata": {
    "scrolled": true
   },
   "outputs": [
    {
     "name": "stdout",
     "output_type": "stream",
     "text": [
      "[[1 2 3]\n",
      " [4 5 6]\n",
      " [7 8 9]]\n"
     ]
    }
   ],
   "source": [
    "X = rank_2_array.copy()\n",
    "print(X)"
   ]
  },
  {
   "cell_type": "markdown",
   "metadata": {},
   "source": [
    "* ndarray[row, column]"
   ]
  },
  {
   "cell_type": "code",
   "execution_count": 26,
   "metadata": {},
   "outputs": [
    {
     "name": "stdout",
     "output_type": "stream",
     "text": [
      "1\n",
      "2\n",
      "9\n"
     ]
    }
   ],
   "source": [
    "print(X[0,0])\n",
    "print(X[0,1])\n",
    "print(X[2,2])"
   ]
  },
  {
   "cell_type": "code",
   "execution_count": 27,
   "metadata": {},
   "outputs": [
    {
     "name": "stdout",
     "output_type": "stream",
     "text": [
      "[[20  2  3]\n",
      " [ 4  5  6]\n",
      " [ 7  8  9]]\n"
     ]
    }
   ],
   "source": [
    "X[0,0] = 20\n",
    "print(X)"
   ]
  },
  {
   "cell_type": "markdown",
   "metadata": {},
   "source": [
    "***\n",
    "* np.delete(ndarray, elements, axis)\n",
    ">*For rank-1 arrays the axis is not required. For rank-2 arrays,* axis=0 *selects ROWS and* axis=1 *selects COLUMNS.*"
   ]
  },
  {
   "cell_type": "code",
   "execution_count": 28,
   "metadata": {},
   "outputs": [
    {
     "name": "stdout",
     "output_type": "stream",
     "text": [
      "1d array:\n",
      "[1 2 3 4 5]\n",
      "[2 3 4]\n"
     ]
    }
   ],
   "source": [
    "print('1d array:')\n",
    "X = rank_1_array.copy()\n",
    "print(X)\n",
    "X = np.delete(X, [0,4])\n",
    "print(X)"
   ]
  },
  {
   "cell_type": "code",
   "execution_count": 29,
   "metadata": {
    "scrolled": true
   },
   "outputs": [
    {
     "name": "stdout",
     "output_type": "stream",
     "text": [
      "2d array:\n",
      "[[1 2 3]\n",
      " [4 5 6]\n",
      " [7 8 9]]\n",
      "Delete first row (line 5):\n",
      "[[4 5 6]\n",
      " [7 8 9]]\n",
      "Delete first column (line 8):\n",
      "[[2 3]\n",
      " [5 6]\n",
      " [8 9]]\n",
      "Delete first and last column (line 11):\n",
      "[[2]\n",
      " [5]\n",
      " [8]]\n"
     ]
    }
   ],
   "source": [
    "print('2d array:')\n",
    "X = rank_2_array.copy()\n",
    "print(X)\n",
    "print('Delete first row (line 5):')\n",
    "Y = np.delete(X, 0, axis=0)\n",
    "print(Y)\n",
    "print('Delete first column (line 8):')\n",
    "Z = np.delete(X, 0, axis=1)\n",
    "print(Z)\n",
    "print('Delete first and last column (line 11):')\n",
    "X = np.delete(X, [0,2], axis=1)\n",
    "print(X)"
   ]
  },
  {
   "cell_type": "markdown",
   "metadata": {},
   "source": [
    "***\n",
    "* np.append(ndarray, elements, axis)\n",
    ">*For rank-1 arrays the axis is not required. For rank-2 arrays,* axis=0 *selects ROWS and* axis=1 *selects COLUMNS.*  \n",
    "*Note that the rows/column being appended must have the corret shape.*"
   ]
  },
  {
   "cell_type": "code",
   "execution_count": 30,
   "metadata": {
    "scrolled": false
   },
   "outputs": [
    {
     "name": "stdout",
     "output_type": "stream",
     "text": [
      "1d array:\n",
      "[1 2 3 4 5]\n",
      "Append int 6 to array (line 5):\n",
      "[1 2 3 4 5 6]\n",
      "Append int's 7 & 8 to array (line 8)\n",
      "[1 2 3 4 5 6 7 8]\n"
     ]
    }
   ],
   "source": [
    "print('1d array:')\n",
    "X = rank_1_array.copy()\n",
    "print(X)\n",
    "print('Append int 6 to array (line 5):')\n",
    "X = np.append(X, 6)\n",
    "print(X)\n",
    "print(\"Append int's 7 & 8 to array (line 8)\")\n",
    "X = np.append(X, [7,8])\n",
    "print(X)"
   ]
  },
  {
   "cell_type": "code",
   "execution_count": 31,
   "metadata": {
    "scrolled": false
   },
   "outputs": [
    {
     "name": "stdout",
     "output_type": "stream",
     "text": [
      "2d array:\n",
      "[[1 2 3]\n",
      " [4 5 6]]\n",
      "Append new row containing [7,8,9] (line 5):\n",
      "[[1 2 3]\n",
      " [4 5 6]\n",
      " [7 8 9]]\n",
      "Append new column containing [9], [10], [11] (line 8):\n",
      "[[ 1  2  3  9]\n",
      " [ 4  5  6 10]\n",
      " [ 7  8  9 11]]\n"
     ]
    }
   ],
   "source": [
    "print('2d array:')\n",
    "X = np.delete(rank_2_array, 2, axis=0)\n",
    "print(X)\n",
    "print('Append new row containing [7,8,9] (line 5):')\n",
    "X = np.append(X, [[7,8,9]], axis=0)\n",
    "print(X)\n",
    "print('Append new column containing [9], [10], [11] (line 8):')\n",
    "X = np.append(X, [[9],[10],[11]], axis=1)\n",
    "print(X)"
   ]
  },
  {
   "cell_type": "markdown",
   "metadata": {},
   "source": [
    "***\n",
    "* np.insert(ndarray, index, elements, axis)\n",
    ">*For rank-1 arrays the axis is not required. For rank-2 arrays, axis=0 selects ROWS and axis=1 selects COLUMNS.*  \n",
    "*Note that the rows/column being appended must have the corret shape.*\n"
   ]
  },
  {
   "cell_type": "code",
   "execution_count": 32,
   "metadata": {},
   "outputs": [
    {
     "name": "stdout",
     "output_type": "stream",
     "text": [
      "[1 2 3 4 5]\n",
      "[1 2 3 4 3 4 5]\n"
     ]
    }
   ],
   "source": [
    "X = rank_1_array.copy()\n",
    "print(X)\n",
    "X = np.insert(X, 2, [3,4])\n",
    "print(X)"
   ]
  },
  {
   "cell_type": "code",
   "execution_count": 33,
   "metadata": {},
   "outputs": [
    {
     "name": "stdout",
     "output_type": "stream",
     "text": [
      "[[1 2 3]\n",
      " [4 5 6]\n",
      " [7 8 9]]\n",
      "Insert a row between first and last row (line 4):\n",
      "[[1 2 3]\n",
      " [4 5 6]\n",
      " [4 5 6]\n",
      " [7 8 9]]\n",
      "Insert a column full of 5's between first and second column (line 8):\n",
      "[[1 5 2 3]\n",
      " [4 5 5 6]\n",
      " [7 5 8 9]]\n"
     ]
    }
   ],
   "source": [
    "X = rank_2_array.copy()\n",
    "print(X)\n",
    "print('Insert a row between first and last row (line 4):')\n",
    "X = np.insert(X, 1,[4,5,6], axis=0)\n",
    "print(X)\n",
    "X = rank_2_array.copy()\n",
    "print(\"Insert a column full of 5's between first and second column (line 8):\")\n",
    "X = np.insert(X, 1, 5, axis=1)\n",
    "print(X)"
   ]
  },
  {
   "cell_type": "markdown",
   "metadata": {},
   "source": [
    "***\n",
    "* np.vstack(stack, ndarray)\n",
    ">*Note that the item being stacked must have the correct shape. See how the hstack example uses .reshape to transform the appended array into a suitable shape.*"
   ]
  },
  {
   "cell_type": "code",
   "execution_count": 34,
   "metadata": {},
   "outputs": [
    {
     "name": "stdout",
     "output_type": "stream",
     "text": [
      "Rank 1 array:\n",
      "[1 2]\n",
      "Rank 2 array:\n",
      "[[3 4]\n",
      " [5 6]]\n",
      "Stacked with vstack: (line 7):\n",
      "[[1 2]\n",
      " [3 4]\n",
      " [5 6]]\n",
      "Stacked with hstack: (line 9):\n",
      "[[3 4 1]\n",
      " [5 6 2]]\n"
     ]
    }
   ],
   "source": [
    "X = np.array([1,2])\n",
    "print('Rank 1 array:')\n",
    "print(X)\n",
    "Y = np.array([[3,4],[5,6]])\n",
    "print('Rank 2 array:')\n",
    "print(Y)\n",
    "Z = np.vstack((X, Y))\n",
    "print('Stacked with vstack: (line 7):')\n",
    "print(Z)\n",
    "print('Stacked with hstack: (line 9):')\n",
    "Z = np.hstack((Y, X.reshape(2,1)))\n",
    "print(Z)"
   ]
  },
  {
   "cell_type": "markdown",
   "metadata": {},
   "source": [
    "***\n",
    "### Slicing  \n",
    "* ndarray[row_start:row_end, column_start:column_end]\n",
    ">*WARNING: assigning a new variable name to a slice of a ndarray only creates a \"view\" of that ndarray. If the variable assigned to the slice is changed, the original ndarray will be changed as well. Example follows below (issue can be avoided by using .copy function).*"
   ]
  },
  {
   "cell_type": "code",
   "execution_count": 35,
   "metadata": {
    "scrolled": false
   },
   "outputs": [
    {
     "name": "stdout",
     "output_type": "stream",
     "text": [
      "[[ 1  2  3  4  5]\n",
      " [ 6  7  8  9 10]\n",
      " [11 12 13 14 15]\n",
      " [16 17 18 19 20]]\n",
      "\n",
      "After slice [1:4, 2:5]:\n",
      "[[ 8  9 10]\n",
      " [13 14 15]\n",
      " [18 19 20]]\n",
      "\n",
      "After slice [2:, 1:]\n",
      "[[12 13 14 15]\n",
      " [17 18 19 20]]\n",
      "\n",
      "After slice [:, 2] (notice it returns rank 1 array):\n",
      "[ 3  8 13 18]\n",
      "\n",
      "After slice [:, 2:3] (notice it returns rank 2 array):\n",
      "[[ 3]\n",
      " [ 8]\n",
      " [13]\n",
      " [18]]\n"
     ]
    }
   ],
   "source": [
    "x = np.arange(1, 21).reshape(4,5)\n",
    "print(x)\n",
    "print('\\nAfter slice [1:4, 2:5]:')\n",
    "my_slice = x[1:4, 2:5]\n",
    "print(my_slice)\n",
    "print ('\\nAfter slice [2:, 1:]')\n",
    "my_slice = x[2:, 1:]\n",
    "print(my_slice)\n",
    "print('\\nAfter slice [:, 2] (notice it returns rank 1 array):')\n",
    "my_slice = x[:, 2]\n",
    "print(my_slice)\n",
    "my_slice = x[:, 2:3]\n",
    "print('\\nAfter slice [:, 2:3] (notice it returns rank 2 array):')\n",
    "print(my_slice)"
   ]
  },
  {
   "cell_type": "markdown",
   "metadata": {},
   "source": [
    "* example of \"view\" variable assignment:"
   ]
  },
  {
   "cell_type": "code",
   "execution_count": 36,
   "metadata": {},
   "outputs": [
    {
     "name": "stdout",
     "output_type": "stream",
     "text": [
      "[[ 1  2  3  4  5]\n",
      " [ 6  7  8  9 10]\n",
      " [11 12 13 14 15]\n",
      " [16 17 18 19 20]]\n",
      "\n",
      "Slice: \n",
      "[[ 8  9 10]\n",
      " [13 14 15]\n",
      " [18 19 20]]\n",
      "\n",
      "Last entry in slice changed to 55 (line 7):\n",
      "[[ 8  9 10]\n",
      " [13 14 15]\n",
      " [18 19 55]]\n",
      "\n",
      "Original ndarray changed too:\n",
      "[[ 1  2  3  4  5]\n",
      " [ 6  7  8  9 10]\n",
      " [11 12 13 14 15]\n",
      " [16 17 18 19 55]]\n"
     ]
    }
   ],
   "source": [
    "x = np.arange(1, 21).reshape(4,5)\n",
    "print(x)\n",
    "print('\\nSlice: ')\n",
    "my_slice = x[1:, 2:]\n",
    "print(my_slice)\n",
    "print('\\nLast entry in slice changed to 55 (line 7):')\n",
    "my_slice[2, 2] = 55\n",
    "print(my_slice)\n",
    "print('\\nOriginal ndarray changed too:')\n",
    "print(x)"
   ]
  },
  {
   "cell_type": "markdown",
   "metadata": {},
   "source": [
    "***\n",
    "* np.copy()\n",
    ">*Avoids above problem."
   ]
  },
  {
   "cell_type": "code",
   "execution_count": 37,
   "metadata": {
    "scrolled": false
   },
   "outputs": [
    {
     "name": "stdout",
     "output_type": "stream",
     "text": [
      "Changed slice:\n",
      "[[ 8  9 10]\n",
      " [13 14 15]\n",
      " [18 19 55]]\n",
      "\n",
      "Unchanged original:\n",
      "[[ 1  2  3  4  5]\n",
      " [ 6  7  8  9 10]\n",
      " [11 12 13 14 15]\n",
      " [16 17 18 19 20]]\n"
     ]
    }
   ],
   "source": [
    "x = np.arange(1, 21).reshape(4,5)\n",
    "my_slice = x[1:, 2:].copy()\n",
    "my_slice[2, 2] = 55\n",
    "print('Changed slice:')\n",
    "print(my_slice)\n",
    "print('\\nUnchanged original:')\n",
    "print(x)"
   ]
  },
  {
   "cell_type": "markdown",
   "metadata": {},
   "source": [
    "***\n",
    "* Indices: use one ndarray to make slices, select, or change elements in another ndarray."
   ]
  },
  {
   "cell_type": "code",
   "execution_count": 38,
   "metadata": {
    "scrolled": true
   },
   "outputs": [
    {
     "name": "stdout",
     "output_type": "stream",
     "text": [
      "[[ 0  1  2  3  4]\n",
      " [ 5  6  7  8  9]\n",
      " [10 11 12 13 14]\n",
      " [15 16 17 18 19]]\n",
      "\n",
      "Indices:  [1 3]\n",
      "\n",
      "Selection from rows using indices:\n",
      "[[ 5  6  7  8  9]\n",
      " [15 16 17 18 19]]\n",
      "\n",
      "Selection from columns using indices:\n",
      "[[ 1  3]\n",
      " [ 6  8]\n",
      " [11 13]\n",
      " [16 18]]\n"
     ]
    }
   ],
   "source": [
    "x = np.arange(20).reshape(4,5)\n",
    "print(x)\n",
    "indices = np.array([1,3])\n",
    "print('\\nIndices: ', indices)\n",
    "z = x[indices, :]\n",
    "print('\\nSelection from rows using indices:')\n",
    "print(z)\n",
    "z = x[:, indices]\n",
    "print('\\nSelection from columns using indices:')\n",
    "print(z)"
   ]
  },
  {
   "cell_type": "markdown",
   "metadata": {},
   "source": [
    "***\n",
    "* np.diag(ndarray, k=N)\n",
    ">k=N *is the position relative to the main diagonal with positive values selecting to the right and negative values selecting to the left.*"
   ]
  },
  {
   "cell_type": "code",
   "execution_count": 39,
   "metadata": {},
   "outputs": [
    {
     "name": "stdout",
     "output_type": "stream",
     "text": [
      "[[ 0  1  2  3  4]\n",
      " [ 5  6  7  8  9]\n",
      " [10 11 12 13 14]\n",
      " [15 16 17 18 19]\n",
      " [20 21 22 23 24]] \n",
      "\n",
      "elements in main diag:  [ 0  6 12 18 24]\n",
      "\n",
      "elements above main diag (k=1): [ 1  7 13 19]\n",
      "\n",
      "elements below main diag (k=-1): [ 5 11 17 23]\n"
     ]
    }
   ],
   "source": [
    "x = np.arange(25).reshape(5,5)\n",
    "print(x,'\\n')\n",
    "print('elements in main diag: ', np.diag(x))\n",
    "print('\\nelements above main diag (k=1):', np.diag(x, k=1))\n",
    "print('\\nelements below main diag (k=-1):', np.diag(x, k=-1))"
   ]
  },
  {
   "cell_type": "markdown",
   "metadata": {},
   "source": [
    "***\n",
    "* np.unique(ndarray)"
   ]
  },
  {
   "cell_type": "code",
   "execution_count": 40,
   "metadata": {},
   "outputs": [
    {
     "name": "stdout",
     "output_type": "stream",
     "text": [
      "Unique elements are: [1 2 3 5 8]\n"
     ]
    }
   ],
   "source": [
    "x = np.array([[1,2,3],[5,2,8],[1,2,3]])\n",
    "print('Unique elements are:', np.unique(x))"
   ]
  },
  {
   "cell_type": "markdown",
   "metadata": {},
   "source": [
    "***\n",
    "### Boolean Indexing"
   ]
  },
  {
   "cell_type": "code",
   "execution_count": 41,
   "metadata": {
    "scrolled": false
   },
   "outputs": [
    {
     "name": "stdout",
     "output_type": "stream",
     "text": [
      "[[ 0  1  2  3  4]\n",
      " [ 5  6  7  8  9]\n",
      " [10 11 12 13 14]\n",
      " [15 16 17 18 19]\n",
      " [20 21 22 23 24]] \n",
      "\n",
      "Elements in x greater than 10: [11 12 13 14 15 16 17 18 19 20 21 22 23 24]\n",
      "Elements in x less than or equal to 7: [0 1 2 3 4 5 6 7]\n",
      "Elements in x between 10 and 17: [11 12 13 14 15 16]\n",
      "\n",
      "Reassigning values between 10 and 17 to -1:\n",
      "[[ 0  1  2  3  4]\n",
      " [ 5  6  7  8  9]\n",
      " [10 -1 -1 -1 -1]\n",
      " [-1 -1 17 18 19]\n",
      " [20 21 22 23 24]]\n"
     ]
    }
   ],
   "source": [
    "x = np.arange(25).reshape(5, 5)\n",
    "print(x,'\\n')\n",
    "print('Elements in x greater than 10:', x[x > 10])\n",
    "print('Elements in x less than or equal to 7:', x[x <= 7])\n",
    "print('Elements in x between 10 and 17:', x[(x > 10) & (x < 17)])\n",
    "\n",
    "print('\\nReassigning values between 10 and 17 to -1:')\n",
    "x[(x > 10) & (x < 17)] = -1\n",
    "print(x)"
   ]
  },
  {
   "cell_type": "markdown",
   "metadata": {},
   "source": [
    "***\n",
    "Set Operations:\n",
    "* np.intersect1d(first_rank1, second_rank2)\n",
    "* np.setdiff1d(first_rank1, second_rank2)\n",
    "* np.union1d(first_rank1, second_rank2)"
   ]
  },
  {
   "cell_type": "code",
   "execution_count": 42,
   "metadata": {},
   "outputs": [
    {
     "name": "stdout",
     "output_type": "stream",
     "text": [
      "x: [1 2 3 4 5]\n",
      "y: [6 7 2 8 4]\n",
      "Elements in both x and y: [2 4]\n",
      "Elements in x that are not in y: [1 3 5]\n",
      "All elements of both x and y: [1 2 3 4 5 6 7 8]\n"
     ]
    }
   ],
   "source": [
    "x = rank_1_array.copy()\n",
    "y = np.array([6,7,2,8,4])\n",
    "print('x:',x)\n",
    "print('y:',y)\n",
    "print('Elements in both x and y:', np.intersect1d(x,y))\n",
    "print('Elements in x that are not in y:', np.setdiff1d(x,y))\n",
    "print('All elements of both x and y:', np.union1d(x,y))"
   ]
  },
  {
   "cell_type": "markdown",
   "metadata": {},
   "source": [
    "***\n",
    "* np.sort(ndarray, axis)\n",
    ">*NOTE: when used as a method, it alters the original ndarray. When used as a function, it does not.*"
   ]
  },
  {
   "cell_type": "code",
   "execution_count": 60,
   "metadata": {},
   "outputs": [
    {
     "name": "stdout",
     "output_type": "stream",
     "text": [
      "[10  8  8  8  9  5  4  9  9  1]\n",
      "\n",
      "Sorted as function:\n",
      "[ 1  4  5  8  8  8  9  9  9 10]\n",
      "Original left intact:\n",
      "[10  8  8  8  9  5  4  9  9  1]\n",
      "\n",
      "Sorted as method (this is the original ndarray):\n",
      "[ 1  4  5  8  8  8  9  9  9 10]\n"
     ]
    }
   ],
   "source": [
    "# Rank 1 ndarray\n",
    "x = np.random.randint(1,11,size=(10,))\n",
    "print(x)\n",
    "print('\\nSorted as function:')\n",
    "print(np.sort(x))\n",
    "print('Original left intact:')\n",
    "print(x)\n",
    "x.sort()\n",
    "print('\\nSorted as method (this is the original ndarray):')\n",
    "print(x)"
   ]
  },
  {
   "cell_type": "code",
   "execution_count": 55,
   "metadata": {},
   "outputs": [
    {
     "name": "stdout",
     "output_type": "stream",
     "text": [
      "[ 2  3  4  5  6  7  8  9 10]\n"
     ]
    }
   ],
   "source": [
    "# Sorting and returning only unique items\n",
    "print(np.sort(np.unique(x)))"
   ]
  },
  {
   "cell_type": "code",
   "execution_count": 63,
   "metadata": {},
   "outputs": [
    {
     "name": "stdout",
     "output_type": "stream",
     "text": [
      "[[ 5 10  7  2  8]\n",
      " [ 9  3  5  5  7]\n",
      " [ 1  6  9 10  9]\n",
      " [ 2  6  7 10  6]\n",
      " [ 6  1 10  1  8]]\n",
      "With columns sorted:\n",
      "[[ 2  5  7  8 10]\n",
      " [ 3  5  5  7  9]\n",
      " [ 1  6  9  9 10]\n",
      " [ 2  6  6  7 10]\n",
      " [ 1  1  6  8 10]]\n",
      "With rows sorted:\n",
      "[[ 1  1  5  1  6]\n",
      " [ 2  3  7  2  7]\n",
      " [ 5  6  7  5  8]\n",
      " [ 6  6  9 10  8]\n",
      " [ 9 10 10 10  9]]\n"
     ]
    }
   ],
   "source": [
    "# Rank 2 ndarray\n",
    "x = np.random.randint(1,11,(5,5))\n",
    "print(x)\n",
    "print('With columns sorted:')\n",
    "print(np.sort(x, axis=1))\n",
    "print('With rows sorted:')\n",
    "print(np.sort(x, axis=0))"
   ]
  },
  {
   "cell_type": "markdown",
   "metadata": {},
   "source": [
    "***\n",
    "### Arithmetic operations and Broadcasting\n",
    ">*Within Numpy, these arithmetic operations are being \"broadcasted\" to every element in the ndarray.*"
   ]
  },
  {
   "cell_type": "markdown",
   "metadata": {},
   "source": [
    "* np.add(ndarray1, ndarray2)\n",
    "* np.subtract(ndarray1, ndarray2)\n",
    "* np.multiply(ndarray1, ndarray2)\n",
    "* np.divide(ndarray1, ndarray2)"
   ]
  },
  {
   "cell_type": "code",
   "execution_count": 100,
   "metadata": {},
   "outputs": [
    {
     "name": "stdout",
     "output_type": "stream",
     "text": [
      "Addition:\n",
      "[ 6  8 10 12]\n",
      "[ 6  8 10 12]\n",
      "Note how arithmetic function only adds 2 args:\n",
      "[15 18 21 24] <- operation added x y & z\n",
      "[ 6  8 10 12] <- function only added x & y\n",
      "\n",
      "Subtraction:\n",
      "[4 4 4 4]\n",
      "[4 4 4 4]\n",
      "\n",
      "Multiplication:\n",
      "[ 5 12 21 32]\n",
      "[ 5 12 21 32]\n",
      "\n",
      "Division:\n",
      "[ 0.2         0.33333333  0.42857143  0.5       ]\n",
      "[ 0.2         0.33333333  0.42857143  0.5       ]\n"
     ]
    }
   ],
   "source": [
    "x = np.array([1,2,3,4])\n",
    "y = np.array([5,6,7,8])\n",
    "z = np.array([9,10,11,12])\n",
    "print('Addition:')\n",
    "print(x + y)\n",
    "print(np.add(x, y))\n",
    "print('Note how arithmetic function only adds 2 args:')\n",
    "print(x + y + z, '<- operation added x y & z')\n",
    "print(np.add(x, y, z), '<- function only added x & y')\n",
    "print()\n",
    "print('Subtraction:')\n",
    "print(y - x)\n",
    "print(np.subtract(y, x))\n",
    "print()\n",
    "print('Multiplication:')\n",
    "print(x * y)\n",
    "print(np.multiply(x, y))\n",
    "print()\n",
    "print('Division:')\n",
    "print(x / y)\n",
    "print(np.divide(x, y))"
   ]
  },
  {
   "cell_type": "markdown",
   "metadata": {},
   "source": [
    "* Arithmetic with scalar values (more memory and computationaly efficient than the above):"
   ]
  },
  {
   "cell_type": "code",
   "execution_count": 101,
   "metadata": {
    "scrolled": true
   },
   "outputs": [
    {
     "name": "stdout",
     "output_type": "stream",
     "text": [
      "[1 2 3 4]\n",
      "Add 3:\n",
      "[4 5 6 7]\n",
      "Subtract 3:\n",
      "[-2 -1  0  1]\n",
      "Multiply by 3:\n",
      "[ 3  6  9 12]\n",
      "Divide by 3:\n",
      "[ 0.33333333  0.66666667  1.          1.33333333]\n"
     ]
    }
   ],
   "source": [
    "print(x)\n",
    "print('Add 3:')\n",
    "print(x + 3)\n",
    "print('Subtract 3:')\n",
    "print(x - 3)\n",
    "print('Multiply by 3:')\n",
    "print(x * 3)\n",
    "print('Divide by 3:')\n",
    "print(x / 3)"
   ]
  },
  {
   "cell_type": "markdown",
   "metadata": {},
   "source": [
    "* Arithmetic with different array shapes:\n",
    ">*Can only be accomplished if the smaller array can be expanded to fit the larger array*"
   ]
  },
  {
   "cell_type": "code",
   "execution_count": 114,
   "metadata": {},
   "outputs": [
    {
     "name": "stdout",
     "output_type": "stream",
     "text": [
      "[[0 1 2]\n",
      " [3 4 5]\n",
      " [6 7 8]] \n",
      "\n",
      "[0 1 2] \n",
      "\n",
      "Sum after addition:\n",
      "[[ 0  2  4]\n",
      " [ 3  5  7]\n",
      " [ 6  8 10]] \n",
      "\n",
      "---------\n",
      "\n",
      "[[0 1 2]\n",
      " [3 4 5]\n",
      " [6 7 8]] \n",
      "\n",
      "[[0]\n",
      " [1]\n",
      " [2]] \n",
      "\n",
      "Sum after addition:\n",
      "[[ 0  1  2]\n",
      " [ 4  5  6]\n",
      " [ 8  9 10]]\n"
     ]
    }
   ],
   "source": [
    "y = np.arange(9).reshape(3,3)\n",
    "x = np.arange(3)\n",
    "print(y, '\\n')\n",
    "print(x, '\\n')\n",
    "print('Sum after addition:')\n",
    "print(y + x, '\\n')\n",
    "print('---------')\n",
    "z = np.arange(3).reshape(3,1)\n",
    "print()\n",
    "print(y, '\\n')\n",
    "print(z, '\\n')\n",
    "print('Sum after addition:')\n",
    "print(y + z)"
   ]
  },
  {
   "cell_type": "markdown",
   "metadata": {},
   "source": [
    "***\n",
    "* np.sqrt(ndarray)\n",
    "* np.exp(ndarray)\n",
    "* np.power(ndarray, power)"
   ]
  },
  {
   "cell_type": "code",
   "execution_count": 102,
   "metadata": {},
   "outputs": [
    {
     "name": "stdout",
     "output_type": "stream",
     "text": [
      "[1 2 3 4]\n",
      "Square roots:\n",
      "[ 1.          1.41421356  1.73205081  2.        ]\n",
      "Exponentials (Euler's):\n",
      "[  2.71828183   7.3890561   20.08553692  54.59815003]\n",
      "Elements to the power of 2:\n",
      "[ 1  4  9 16]\n",
      "Elements to the power of 3:\n",
      "[ 1  8 27 64]\n"
     ]
    }
   ],
   "source": [
    "x = np.array([1,2,3,4])\n",
    "print(x)\n",
    "print('Square roots:')\n",
    "print(np.sqrt(x))\n",
    "print(\"Exponentials (Euler's):\")\n",
    "print(np.exp(x))\n",
    "print(\"Elements to the power of 2:\")\n",
    "print(np.power(x, 2))\n",
    "print(\"Elements to the power of 3:\")\n",
    "print(np.power(x, 3))"
   ]
  },
  {
   "cell_type": "markdown",
   "metadata": {},
   "source": [
    "***\n",
    "* .mean(axis)\n"
   ]
  },
  {
   "cell_type": "code",
   "execution_count": 93,
   "metadata": {},
   "outputs": [
    {
     "name": "stdout",
     "output_type": "stream",
     "text": [
      "[[1 2]\n",
      " [3 4]]\n",
      "Average of all: 2.5\n",
      "Average of columns: [ 2.  3.]\n",
      "Average of rows: [ 1.5  3.5]\n"
     ]
    }
   ],
   "source": [
    "x = np.array([[1, 2], [3,4]])\n",
    "print(x)\n",
    "print('Average of all:', x.mean())\n",
    "print('Average of columns:', x.mean(axis=0))\n",
    "print('Average of rows:', x.mean(axis=1))"
   ]
  },
  {
   "cell_type": "markdown",
   "metadata": {},
   "source": [
    "* .sum(axis)"
   ]
  },
  {
   "cell_type": "code",
   "execution_count": 94,
   "metadata": {},
   "outputs": [
    {
     "name": "stdout",
     "output_type": "stream",
     "text": [
      "[[1 2]\n",
      " [3 4]]\n",
      "Sum of all: 10\n",
      "Sum of columns: [4 6]\n",
      "Sum of rows: [3 7]\n"
     ]
    }
   ],
   "source": [
    "print(x)\n",
    "print('Sum of all:', x.sum())\n",
    "print('Sum of columns:', x.sum(axis=0))\n",
    "print('Sum of rows:', x.sum(axis=1))"
   ]
  },
  {
   "cell_type": "markdown",
   "metadata": {},
   "source": [
    "* .std()\n",
    "* np.median(ndarray)\n",
    "* .max()\n",
    "* .min()"
   ]
  },
  {
   "cell_type": "code",
   "execution_count": 95,
   "metadata": {},
   "outputs": [
    {
     "name": "stdout",
     "output_type": "stream",
     "text": [
      "[[1 2]\n",
      " [3 4]]\n",
      "Standard deviation: 1.11803398875\n",
      "Median: 2.5\n",
      "Max. value: 4\n",
      "Min. value: 1\n"
     ]
    }
   ],
   "source": [
    "print(x)\n",
    "print('Standard deviation:', x.std())\n",
    "print('Median:', np.median(x))\n",
    "print('Max. value:', x.max())\n",
    "print('Min. value:', x.min())"
   ]
  },
  {
   "cell_type": "code",
   "execution_count": null,
   "metadata": {},
   "outputs": [],
   "source": []
  }
 ],
 "metadata": {
  "kernelspec": {
   "display_name": "Python [conda env:udacity] *",
   "language": "python",
   "name": "conda-env-udacity-py"
  },
  "language_info": {
   "codemirror_mode": {
    "name": "ipython",
    "version": 3
   },
   "file_extension": ".py",
   "mimetype": "text/x-python",
   "name": "python",
   "nbconvert_exporter": "python",
   "pygments_lexer": "ipython3",
   "version": "3.6.3"
  }
 },
 "nbformat": 4,
 "nbformat_minor": 4
}
